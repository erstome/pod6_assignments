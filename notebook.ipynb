{
 "cells": [
  {
   "cell_type": "code",
   "execution_count": 2,
   "metadata": {},
   "outputs": [],
   "source": [
    "import pandas as pd\n",
    "import json"
   ]
  },
  {
   "cell_type": "code",
   "execution_count": 3,
   "metadata": {},
   "outputs": [],
   "source": [
    "f = open('/home/erstome/DareData/pod6_assignments/life_expectancy/data/eurostat_life_expect.json')\n",
    "data = json.load(f)"
   ]
  },
  {
   "cell_type": "code",
   "execution_count": 4,
   "metadata": {},
   "outputs": [],
   "source": [
    "df = pd.DataFrame(data)"
   ]
  },
  {
   "cell_type": "code",
   "execution_count": 5,
   "metadata": {},
   "outputs": [
    {
     "data": {
      "text/html": [
       "<div>\n",
       "<style scoped>\n",
       "    .dataframe tbody tr th:only-of-type {\n",
       "        vertical-align: middle;\n",
       "    }\n",
       "\n",
       "    .dataframe tbody tr th {\n",
       "        vertical-align: top;\n",
       "    }\n",
       "\n",
       "    .dataframe thead th {\n",
       "        text-align: right;\n",
       "    }\n",
       "</style>\n",
       "<table border=\"1\" class=\"dataframe\">\n",
       "  <thead>\n",
       "    <tr style=\"text-align: right;\">\n",
       "      <th></th>\n",
       "      <th>unit</th>\n",
       "      <th>sex</th>\n",
       "      <th>age</th>\n",
       "      <th>country</th>\n",
       "      <th>year</th>\n",
       "      <th>life_expectancy</th>\n",
       "      <th>flag</th>\n",
       "      <th>flag_detail</th>\n",
       "    </tr>\n",
       "  </thead>\n",
       "  <tbody>\n",
       "    <tr>\n",
       "      <th>0</th>\n",
       "      <td>YR</td>\n",
       "      <td>F</td>\n",
       "      <td>Y65</td>\n",
       "      <td>AT</td>\n",
       "      <td>2021</td>\n",
       "      <td>21.2</td>\n",
       "      <td>e</td>\n",
       "      <td>estimated</td>\n",
       "    </tr>\n",
       "    <tr>\n",
       "      <th>1</th>\n",
       "      <td>YR</td>\n",
       "      <td>F</td>\n",
       "      <td>Y65</td>\n",
       "      <td>BE</td>\n",
       "      <td>2021</td>\n",
       "      <td>22.2</td>\n",
       "      <td>e</td>\n",
       "      <td>estimated</td>\n",
       "    </tr>\n",
       "    <tr>\n",
       "      <th>2</th>\n",
       "      <td>YR</td>\n",
       "      <td>F</td>\n",
       "      <td>Y65</td>\n",
       "      <td>BG</td>\n",
       "      <td>2021</td>\n",
       "      <td>15.6</td>\n",
       "      <td>e</td>\n",
       "      <td>estimated</td>\n",
       "    </tr>\n",
       "    <tr>\n",
       "      <th>3</th>\n",
       "      <td>YR</td>\n",
       "      <td>F</td>\n",
       "      <td>Y65</td>\n",
       "      <td>CH</td>\n",
       "      <td>2021</td>\n",
       "      <td>23.1</td>\n",
       "      <td>e</td>\n",
       "      <td>estimated</td>\n",
       "    </tr>\n",
       "    <tr>\n",
       "      <th>4</th>\n",
       "      <td>YR</td>\n",
       "      <td>F</td>\n",
       "      <td>Y65</td>\n",
       "      <td>CY</td>\n",
       "      <td>2021</td>\n",
       "      <td>21.2</td>\n",
       "      <td>e</td>\n",
       "      <td>estimated</td>\n",
       "    </tr>\n",
       "  </tbody>\n",
       "</table>\n",
       "</div>"
      ],
      "text/plain": [
       "  unit sex  age country  year  life_expectancy flag flag_detail\n",
       "0   YR   F  Y65      AT  2021             21.2    e   estimated\n",
       "1   YR   F  Y65      BE  2021             22.2    e   estimated\n",
       "2   YR   F  Y65      BG  2021             15.6    e   estimated\n",
       "3   YR   F  Y65      CH  2021             23.1    e   estimated\n",
       "4   YR   F  Y65      CY  2021             21.2    e   estimated"
      ]
     },
     "execution_count": 5,
     "metadata": {},
     "output_type": "execute_result"
    }
   ],
   "source": [
    "df.head()"
   ]
  },
  {
   "cell_type": "code",
   "execution_count": 1,
   "metadata": {},
   "outputs": [
    {
     "ename": "NameError",
     "evalue": "name 'json' is not defined",
     "output_type": "error",
     "traceback": [
      "\u001b[0;31m---------------------------------------------------------------------------\u001b[0m",
      "\u001b[0;31mNameError\u001b[0m                                 Traceback (most recent call last)",
      "\u001b[1;32m/home/erstome/DareData/pod6_assignments/notebook.ipynb Cell 5\u001b[0m line \u001b[0;36m2\n\u001b[1;32m      <a href='vscode-notebook-cell://wsl%2Bubuntu/home/erstome/DareData/pod6_assignments/notebook.ipynb#W4sdnNjb2RlLXJlbW90ZQ%3D%3D?line=0'>1</a>\u001b[0m \u001b[39mwith\u001b[39;00m \u001b[39mopen\u001b[39m(\u001b[39m'\u001b[39m\u001b[39m/home/erstome/DareData/pod6_assignments/life_expectancy/data/eurostat_life_expect.json\u001b[39m\u001b[39m'\u001b[39m, encoding\u001b[39m=\u001b[39m\u001b[39m\"\u001b[39m\u001b[39mutf-8\u001b[39m\u001b[39m\"\u001b[39m) \u001b[39mas\u001b[39;00m f:\n\u001b[0;32m----> <a href='vscode-notebook-cell://wsl%2Bubuntu/home/erstome/DareData/pod6_assignments/notebook.ipynb#W4sdnNjb2RlLXJlbW90ZQ%3D%3D?line=1'>2</a>\u001b[0m     data \u001b[39m=\u001b[39m json\u001b[39m.\u001b[39mload(f)\n\u001b[1;32m      <a href='vscode-notebook-cell://wsl%2Bubuntu/home/erstome/DareData/pod6_assignments/notebook.ipynb#W4sdnNjb2RlLXJlbW90ZQ%3D%3D?line=2'>3</a>\u001b[0m     df2 \u001b[39m=\u001b[39m pd\u001b[39m.\u001b[39mDataFrame(data)\n",
      "\u001b[0;31mNameError\u001b[0m: name 'json' is not defined"
     ]
    }
   ],
   "source": [
    "with open('/home/erstome/DareData/pod6_assignments/life_expectancy/data/eurostat_life_expect.json', encoding=\"utf-8\") as f:\n",
    "    data = json.load(f)\n",
    "    df2 = pd.DataFrame(data)"
   ]
  },
  {
   "cell_type": "code",
   "execution_count": 13,
   "metadata": {},
   "outputs": [
    {
     "data": {
      "text/plain": [
       "100"
      ]
     },
     "execution_count": 13,
     "metadata": {},
     "output_type": "execute_result"
    }
   ],
   "source": [
    "len(data[:100])"
   ]
  },
  {
   "cell_type": "code",
   "execution_count": 16,
   "metadata": {},
   "outputs": [],
   "source": [
    "with open('/home/erstome/DareData/pod6_assignments/life_expectancy/tests/fixtures/eurostat_life_expect_sample.json', 'w') as file:\n",
    "    file.write(json.dumps(data[:100], indent=4))"
   ]
  },
  {
   "cell_type": "code",
   "execution_count": 10,
   "metadata": {},
   "outputs": [],
   "source": [
    "aa = df.country.unique()"
   ]
  },
  {
   "cell_type": "code",
   "execution_count": 13,
   "metadata": {},
   "outputs": [],
   "source": [
    "aa.sort()"
   ]
  },
  {
   "cell_type": "code",
   "execution_count": 18,
   "metadata": {},
   "outputs": [
    {
     "name": "stdout",
     "output_type": "stream",
     "text": [
      "['AL' 'AM' 'AT' 'AZ' 'BE' 'BG' 'BY' 'CH' 'CY' 'CZ' 'DE' 'DE_TOT' 'DK'\n",
      " 'EA18' 'EA19' 'EE' 'EEA30_2007' 'EEA31' 'EFTA' 'EL' 'ES' 'EU27_2007'\n",
      " 'EU27_2020' 'EU28' 'FI' 'FR' 'FX' 'GE' 'HR' 'HU' 'IE' 'IS' 'IT' 'LI' 'LT'\n",
      " 'LU' 'LV' 'MD' 'ME' 'MK' 'MT' 'NL' 'NO' 'PL' 'PT' 'RO' 'RS' 'RU' 'SE'\n",
      " 'SI' 'SK' 'SM' 'TR' 'UA' 'UK' 'XK']\n"
     ]
    }
   ],
   "source": [
    "print(aa)"
   ]
  },
  {
   "cell_type": "code",
   "execution_count": 8,
   "metadata": {},
   "outputs": [],
   "source": [
    "df2 = pd.read_csv('/home/erstome/DareData/pod6_assignments/life_expectancy/data/eu_life_expectancy_raw.tsv',\n",
    "                  sep='\\t')"
   ]
  },
  {
   "cell_type": "code",
   "execution_count": 9,
   "metadata": {},
   "outputs": [
    {
     "data": {
      "text/html": [
       "<div>\n",
       "<style scoped>\n",
       "    .dataframe tbody tr th:only-of-type {\n",
       "        vertical-align: middle;\n",
       "    }\n",
       "\n",
       "    .dataframe tbody tr th {\n",
       "        vertical-align: top;\n",
       "    }\n",
       "\n",
       "    .dataframe thead th {\n",
       "        text-align: right;\n",
       "    }\n",
       "</style>\n",
       "<table border=\"1\" class=\"dataframe\">\n",
       "  <thead>\n",
       "    <tr style=\"text-align: right;\">\n",
       "      <th></th>\n",
       "      <th>unit,sex,age,geo\\time</th>\n",
       "      <th>2021</th>\n",
       "      <th>2020</th>\n",
       "      <th>2019</th>\n",
       "      <th>2018</th>\n",
       "      <th>2017</th>\n",
       "      <th>2016</th>\n",
       "      <th>2015</th>\n",
       "      <th>2014</th>\n",
       "      <th>2013</th>\n",
       "      <th>...</th>\n",
       "      <th>1969</th>\n",
       "      <th>1968</th>\n",
       "      <th>1967</th>\n",
       "      <th>1966</th>\n",
       "      <th>1965</th>\n",
       "      <th>1964</th>\n",
       "      <th>1963</th>\n",
       "      <th>1962</th>\n",
       "      <th>1961</th>\n",
       "      <th>1960</th>\n",
       "    </tr>\n",
       "  </thead>\n",
       "  <tbody>\n",
       "    <tr>\n",
       "      <th>0</th>\n",
       "      <td>YR,F,Y1,AL</td>\n",
       "      <td>:</td>\n",
       "      <td>79.4</td>\n",
       "      <td>80.4</td>\n",
       "      <td>80.2</td>\n",
       "      <td>79.7</td>\n",
       "      <td>79.8</td>\n",
       "      <td>79.2</td>\n",
       "      <td>79.8</td>\n",
       "      <td>79.6</td>\n",
       "      <td>...</td>\n",
       "      <td>:</td>\n",
       "      <td>:</td>\n",
       "      <td>:</td>\n",
       "      <td>:</td>\n",
       "      <td>:</td>\n",
       "      <td>:</td>\n",
       "      <td>:</td>\n",
       "      <td>:</td>\n",
       "      <td>:</td>\n",
       "      <td>:</td>\n",
       "    </tr>\n",
       "    <tr>\n",
       "      <th>1</th>\n",
       "      <td>YR,F,Y1,AM</td>\n",
       "      <td>:</td>\n",
       "      <td>:</td>\n",
       "      <td>79.1</td>\n",
       "      <td>79.2</td>\n",
       "      <td>78.5</td>\n",
       "      <td>78.0</td>\n",
       "      <td>77.9</td>\n",
       "      <td>:</td>\n",
       "      <td>:</td>\n",
       "      <td>...</td>\n",
       "      <td>:</td>\n",
       "      <td>:</td>\n",
       "      <td>:</td>\n",
       "      <td>:</td>\n",
       "      <td>:</td>\n",
       "      <td>:</td>\n",
       "      <td>:</td>\n",
       "      <td>:</td>\n",
       "      <td>:</td>\n",
       "      <td>:</td>\n",
       "    </tr>\n",
       "    <tr>\n",
       "      <th>2</th>\n",
       "      <td>YR,F,Y1,AT</td>\n",
       "      <td>:</td>\n",
       "      <td>82.9</td>\n",
       "      <td>83.5</td>\n",
       "      <td>83.3</td>\n",
       "      <td>83.2</td>\n",
       "      <td>83.4</td>\n",
       "      <td>83.0</td>\n",
       "      <td>83.3</td>\n",
       "      <td>83.0</td>\n",
       "      <td>...</td>\n",
       "      <td>:</td>\n",
       "      <td>:</td>\n",
       "      <td>:</td>\n",
       "      <td>:</td>\n",
       "      <td>:</td>\n",
       "      <td>:</td>\n",
       "      <td>:</td>\n",
       "      <td>:</td>\n",
       "      <td>:</td>\n",
       "      <td>:</td>\n",
       "    </tr>\n",
       "    <tr>\n",
       "      <th>3</th>\n",
       "      <td>YR,F,Y1,AZ</td>\n",
       "      <td>:</td>\n",
       "      <td>:</td>\n",
       "      <td>78.6</td>\n",
       "      <td>78.1</td>\n",
       "      <td>77.7</td>\n",
       "      <td>:</td>\n",
       "      <td>77.5</td>\n",
       "      <td>77.0</td>\n",
       "      <td>76.9</td>\n",
       "      <td>...</td>\n",
       "      <td>:</td>\n",
       "      <td>:</td>\n",
       "      <td>:</td>\n",
       "      <td>:</td>\n",
       "      <td>:</td>\n",
       "      <td>:</td>\n",
       "      <td>:</td>\n",
       "      <td>:</td>\n",
       "      <td>:</td>\n",
       "      <td>:</td>\n",
       "    </tr>\n",
       "    <tr>\n",
       "      <th>4</th>\n",
       "      <td>YR,F,Y1,BE</td>\n",
       "      <td>:</td>\n",
       "      <td>82.3</td>\n",
       "      <td>83.6</td>\n",
       "      <td>83.2</td>\n",
       "      <td>83.2</td>\n",
       "      <td>83.2</td>\n",
       "      <td>82.6</td>\n",
       "      <td>83.1</td>\n",
       "      <td>82.5</td>\n",
       "      <td>...</td>\n",
       "      <td>74.4</td>\n",
       "      <td>74.3</td>\n",
       "      <td>74.7</td>\n",
       "      <td>74.4</td>\n",
       "      <td>74.3</td>\n",
       "      <td>74.6</td>\n",
       "      <td>73.9</td>\n",
       "      <td>74.0</td>\n",
       "      <td>74.5</td>\n",
       "      <td>73.7</td>\n",
       "    </tr>\n",
       "    <tr>\n",
       "      <th>...</th>\n",
       "      <td>...</td>\n",
       "      <td>...</td>\n",
       "      <td>...</td>\n",
       "      <td>...</td>\n",
       "      <td>...</td>\n",
       "      <td>...</td>\n",
       "      <td>...</td>\n",
       "      <td>...</td>\n",
       "      <td>...</td>\n",
       "      <td>...</td>\n",
       "      <td>...</td>\n",
       "      <td>...</td>\n",
       "      <td>...</td>\n",
       "      <td>...</td>\n",
       "      <td>...</td>\n",
       "      <td>...</td>\n",
       "      <td>...</td>\n",
       "      <td>...</td>\n",
       "      <td>...</td>\n",
       "      <td>...</td>\n",
       "      <td>...</td>\n",
       "    </tr>\n",
       "    <tr>\n",
       "      <th>14443</th>\n",
       "      <td>YR,T,Y_LT1,SM</td>\n",
       "      <td>:</td>\n",
       "      <td>:</td>\n",
       "      <td>:</td>\n",
       "      <td>:</td>\n",
       "      <td>:</td>\n",
       "      <td>:</td>\n",
       "      <td>:</td>\n",
       "      <td>:</td>\n",
       "      <td>:</td>\n",
       "      <td>...</td>\n",
       "      <td>:</td>\n",
       "      <td>:</td>\n",
       "      <td>:</td>\n",
       "      <td>:</td>\n",
       "      <td>:</td>\n",
       "      <td>:</td>\n",
       "      <td>:</td>\n",
       "      <td>:</td>\n",
       "      <td>:</td>\n",
       "      <td>:</td>\n",
       "    </tr>\n",
       "    <tr>\n",
       "      <th>14444</th>\n",
       "      <td>YR,T,Y_LT1,TR</td>\n",
       "      <td>:</td>\n",
       "      <td>:</td>\n",
       "      <td>79.1</td>\n",
       "      <td>78.9</td>\n",
       "      <td>78.5</td>\n",
       "      <td>78.1</td>\n",
       "      <td>78.2</td>\n",
       "      <td>78.1</td>\n",
       "      <td>78.2</td>\n",
       "      <td>...</td>\n",
       "      <td>:</td>\n",
       "      <td>:</td>\n",
       "      <td>:</td>\n",
       "      <td>:</td>\n",
       "      <td>:</td>\n",
       "      <td>:</td>\n",
       "      <td>:</td>\n",
       "      <td>:</td>\n",
       "      <td>:</td>\n",
       "      <td>:</td>\n",
       "    </tr>\n",
       "    <tr>\n",
       "      <th>14445</th>\n",
       "      <td>YR,T,Y_LT1,UA</td>\n",
       "      <td>:</td>\n",
       "      <td>:</td>\n",
       "      <td>73.4</td>\n",
       "      <td>73.2</td>\n",
       "      <td>73.3</td>\n",
       "      <td>72.9</td>\n",
       "      <td>72.5</td>\n",
       "      <td>71.8</td>\n",
       "      <td>:</td>\n",
       "      <td>...</td>\n",
       "      <td>:</td>\n",
       "      <td>:</td>\n",
       "      <td>:</td>\n",
       "      <td>:</td>\n",
       "      <td>:</td>\n",
       "      <td>:</td>\n",
       "      <td>:</td>\n",
       "      <td>:</td>\n",
       "      <td>:</td>\n",
       "      <td>:</td>\n",
       "    </tr>\n",
       "    <tr>\n",
       "      <th>14446</th>\n",
       "      <td>YR,T,Y_LT1,UK</td>\n",
       "      <td>:</td>\n",
       "      <td>:</td>\n",
       "      <td>:</td>\n",
       "      <td>81.3</td>\n",
       "      <td>81.3</td>\n",
       "      <td>81.2</td>\n",
       "      <td>81.0</td>\n",
       "      <td>81.4</td>\n",
       "      <td>81.1</td>\n",
       "      <td>...</td>\n",
       "      <td>:</td>\n",
       "      <td>:</td>\n",
       "      <td>:</td>\n",
       "      <td>:</td>\n",
       "      <td>:</td>\n",
       "      <td>:</td>\n",
       "      <td>:</td>\n",
       "      <td>:</td>\n",
       "      <td>:</td>\n",
       "      <td>:</td>\n",
       "    </tr>\n",
       "    <tr>\n",
       "      <th>14447</th>\n",
       "      <td>YR,T,Y_LT1,XK</td>\n",
       "      <td>:</td>\n",
       "      <td>:</td>\n",
       "      <td>:</td>\n",
       "      <td>:</td>\n",
       "      <td>:</td>\n",
       "      <td>78.6 p</td>\n",
       "      <td>:</td>\n",
       "      <td>:</td>\n",
       "      <td>:</td>\n",
       "      <td>...</td>\n",
       "      <td>:</td>\n",
       "      <td>:</td>\n",
       "      <td>:</td>\n",
       "      <td>:</td>\n",
       "      <td>:</td>\n",
       "      <td>:</td>\n",
       "      <td>:</td>\n",
       "      <td>:</td>\n",
       "      <td>:</td>\n",
       "      <td>:</td>\n",
       "    </tr>\n",
       "  </tbody>\n",
       "</table>\n",
       "<p>14448 rows × 63 columns</p>\n",
       "</div>"
      ],
      "text/plain": [
       "      unit,sex,age,geo\\time 2021   2020   2019   2018   2017    2016   2015   \\\n",
       "0                YR,F,Y1,AL    :   79.4   80.4   80.2   79.7    79.8   79.2    \n",
       "1                YR,F,Y1,AM    :      :   79.1   79.2   78.5    78.0   77.9    \n",
       "2                YR,F,Y1,AT    :   82.9   83.5   83.3   83.2    83.4   83.0    \n",
       "3                YR,F,Y1,AZ    :      :   78.6   78.1   77.7       :   77.5    \n",
       "4                YR,F,Y1,BE    :   82.3   83.6   83.2   83.2    83.2   82.6    \n",
       "...                     ...   ...    ...    ...    ...    ...     ...    ...   \n",
       "14443         YR,T,Y_LT1,SM    :      :      :      :      :       :      :    \n",
       "14444         YR,T,Y_LT1,TR    :      :   79.1   78.9   78.5    78.1   78.2    \n",
       "14445         YR,T,Y_LT1,UA    :      :   73.4   73.2   73.3    72.9   72.5    \n",
       "14446         YR,T,Y_LT1,UK    :      :      :   81.3   81.3    81.2   81.0    \n",
       "14447         YR,T,Y_LT1,XK    :      :      :      :      :   78.6 p     :    \n",
       "\n",
       "       2014   2013   ...  1969   1968   1967   1966   1965   1964   1963   \\\n",
       "0      79.8   79.6   ...     :      :      :      :      :      :      :    \n",
       "1         :      :   ...     :      :      :      :      :      :      :    \n",
       "2      83.3   83.0   ...     :      :      :      :      :      :      :    \n",
       "3      77.0   76.9   ...     :      :      :      :      :      :      :    \n",
       "4      83.1   82.5   ...  74.4   74.3   74.7   74.4   74.3   74.6   73.9    \n",
       "...      ...    ...  ...    ...    ...    ...    ...    ...    ...    ...   \n",
       "14443     :      :   ...     :      :      :      :      :      :      :    \n",
       "14444  78.1   78.2   ...     :      :      :      :      :      :      :    \n",
       "14445  71.8      :   ...     :      :      :      :      :      :      :    \n",
       "14446  81.4   81.1   ...     :      :      :      :      :      :      :    \n",
       "14447     :      :   ...     :      :      :      :      :      :      :    \n",
       "\n",
       "       1962   1961   1960   \n",
       "0         :      :      :   \n",
       "1         :      :      :   \n",
       "2         :      :      :   \n",
       "3         :      :      :   \n",
       "4      74.0   74.5   73.7   \n",
       "...      ...    ...    ...  \n",
       "14443     :      :      :   \n",
       "14444     :      :      :   \n",
       "14445     :      :      :   \n",
       "14446     :      :      :   \n",
       "14447     :      :      :   \n",
       "\n",
       "[14448 rows x 63 columns]"
      ]
     },
     "execution_count": 9,
     "metadata": {},
     "output_type": "execute_result"
    }
   ],
   "source": [
    "df2"
   ]
  },
  {
   "cell_type": "code",
   "execution_count": 34,
   "metadata": {},
   "outputs": [],
   "source": [
    "from life_expectancy.life_expectancy import load_save, cleaning\n",
    "from pathlib import Path"
   ]
  },
  {
   "cell_type": "code",
   "execution_count": 44,
   "metadata": {},
   "outputs": [],
   "source": [
    "df3 = load_save.load_data(Path('/home/erstome/DareData/pod6_assignments/life_expectancy/data/eu_life_expectancy_raw.tsv'),\n",
    "                    load_save.TSVDataFormat())"
   ]
  },
  {
   "cell_type": "code",
   "execution_count": 49,
   "metadata": {},
   "outputs": [],
   "source": [
    "df4 = cleaning.clean_data(df3)"
   ]
  },
  {
   "cell_type": "code",
   "execution_count": 51,
   "metadata": {},
   "outputs": [
    {
     "data": {
      "text/plain": [
       "array(['AT', 'BE', 'BG', 'CH', 'CY', 'CZ', 'DK', 'EE', 'EL', 'ES',\n",
       "       'EU27_2020', 'FI', 'FR', 'HR', 'HU', 'IS', 'IT', 'LI', 'LT', 'LU',\n",
       "       'LV', 'MT', 'NL', 'NO', 'PL', 'PT', 'RO', 'SE', 'SI', 'SK', 'DE',\n",
       "       'DE_TOT', 'AL', 'EA18', 'EA19', 'EFTA', 'IE', 'ME', 'MK', 'RS',\n",
       "       'AM', 'AZ', 'GE', 'TR', 'UA', 'BY', 'EEA30_2007', 'EEA31',\n",
       "       'EU27_2007', 'EU28', 'UK', 'XK', 'FX', 'MD', 'SM', 'RU'],\n",
       "      dtype=object)"
      ]
     },
     "execution_count": 51,
     "metadata": {},
     "output_type": "execute_result"
    }
   ],
   "source": [
    "df4.region.unique()"
   ]
  },
  {
   "cell_type": "code",
   "execution_count": 62,
   "metadata": {},
   "outputs": [
    {
     "data": {
      "text/plain": [
       "56"
      ]
     },
     "execution_count": 62,
     "metadata": {},
     "output_type": "execute_result"
    }
   ],
   "source": [
    "len(set(aa))"
   ]
  },
  {
   "cell_type": "code",
   "execution_count": 63,
   "metadata": {},
   "outputs": [
    {
     "data": {
      "text/plain": [
       "56"
      ]
     },
     "execution_count": 63,
     "metadata": {},
     "output_type": "execute_result"
    }
   ],
   "source": [
    "len(df4.region.unique())"
   ]
  },
  {
   "cell_type": "code",
   "execution_count": 60,
   "metadata": {},
   "outputs": [
    {
     "data": {
      "text/plain": [
       "56"
      ]
     },
     "execution_count": 60,
     "metadata": {},
     "output_type": "execute_result"
    }
   ],
   "source": [
    "len(set(list(aa) + list(df4.region.unique())))"
   ]
  },
  {
   "cell_type": "code",
   "execution_count": null,
   "metadata": {},
   "outputs": [],
   "source": [
    "life_expectancy_df = load_data(file_path=file_path)\n",
    "\n",
    "life_expectancy_df_cleaned = clean_data(life_expectancy_df)\n"
   ]
  },
  {
   "cell_type": "code",
   "execution_count": 109,
   "metadata": {},
   "outputs": [],
   "source": [
    "\"Countries enum\"\n",
    "from enum import Enum, unique\n",
    "\n",
    "@unique\n",
    "class Country(Enum):\n",
    "    AL = 'AL'\n",
    "    AM = 'AM'\n",
    "    AT = 'AT'\n",
    "    AZ = 'AZ'\n",
    "    BE = 'BE'\n",
    "    BG = 'BG'\n",
    "    BY = 'BY'\n",
    "    CH = 'CH'\n",
    "    CY = 'CY'\n",
    "    CZ = 'CZ'\n",
    "    DE = 'DE'\n",
    "    DE_TOT = 'DE_TOT'\n",
    "    DK = 'DK'\n",
    "    EA18 = 'EA18'\n",
    "    EA19 = 'EA19'\n",
    "    EE = 'EE'\n",
    "    EEA30_2007 = 'EEA30_2007'\n",
    "    EEA31 = 'EEA31'\n",
    "    EFTA = 'EFTA'\n",
    "    EL = 'EL'\n",
    "    ES = 'ES'\n",
    "    EU27_2007 = 'EU27_2007'\n",
    "    EU27_2020 = 'EU27_2020'\n",
    "    EU28 = 'EU28'\n",
    "    FI = 'FI'\n",
    "    FR = 'FR'\n",
    "    FX = 'FX'\n",
    "    GE = 'GE'\n",
    "    HR = 'HR'\n",
    "    HU = 'HU'\n",
    "    IE = 'IE'\n",
    "    IS = 'IS'\n",
    "    IT = 'IT'\n",
    "    LI = 'LI'\n",
    "    LT = 'LT'\n",
    "    LU = 'LU'\n",
    "    LV = 'LV'\n",
    "    MD = 'MD'\n",
    "    ME = 'ME'\n",
    "    MK = 'MK'\n",
    "    MT = 'MT'\n",
    "    NL = 'NL'\n",
    "    NO = 'NO'\n",
    "    PL = 'PL'\n",
    "    PT = 'PT'\n",
    "    RO = 'RO'\n",
    "    RS = 'RS'\n",
    "    RU = 'RU'\n",
    "    SE = 'SE'\n",
    "    SI = 'SI'\n",
    "    SK = 'SK'\n",
    "    SM = 'SM'\n",
    "    TR = 'TR'\n",
    "    UA = 'UA'\n",
    "    UK = 'UK'\n",
    "    XK = 'XK'\n",
    "\n",
    "    @classmethod\n",
    "    def list_of_countries(cls):\n",
    "        \"List of actual countries\"\n",
    "        return [country.value for country in cls if len(country.value)==2]\n",
    "        \n"
   ]
  },
  {
   "cell_type": "code",
   "execution_count": 110,
   "metadata": {},
   "outputs": [],
   "source": [
    "coiso = Country('PT')"
   ]
  },
  {
   "cell_type": "code",
   "execution_count": 112,
   "metadata": {},
   "outputs": [],
   "source": [
    "countries = Country.list_of_countries()"
   ]
  },
  {
   "cell_type": "code",
   "execution_count": 106,
   "metadata": {},
   "outputs": [
    {
     "data": {
      "text/plain": [
       "True"
      ]
     },
     "execution_count": 106,
     "metadata": {},
     "output_type": "execute_result"
    }
   ],
   "source": [
    "all([len(a)==2 for a in countries])"
   ]
  },
  {
   "cell_type": "code",
   "execution_count": 108,
   "metadata": {},
   "outputs": [
    {
     "data": {
      "text/plain": [
       "'PT'"
      ]
     },
     "execution_count": 108,
     "metadata": {},
     "output_type": "execute_result"
    }
   ],
   "source": [
    "Country('PT').value"
   ]
  },
  {
   "cell_type": "code",
   "execution_count": 90,
   "metadata": {},
   "outputs": [
    {
     "name": "stdout",
     "output_type": "stream",
     "text": [
      "Country.AL\n",
      "Country.AM\n",
      "Country.AT\n",
      "Country.AZ\n",
      "Country.BE\n",
      "Country.BG\n",
      "Country.BY\n",
      "Country.CH\n",
      "Country.CY\n",
      "Country.CZ\n",
      "Country.DE\n",
      "Country.DE_TOT\n",
      "Country.DK\n",
      "Country.EA18\n",
      "Country.EA19\n",
      "Country.EE\n",
      "Country.EEA30_2007\n",
      "Country.EEA31\n",
      "Country.EFTA\n",
      "Country.EL\n",
      "Country.ES\n",
      "Country.EU27_2007\n",
      "Country.EU27_2020\n",
      "Country.EU28\n",
      "Country.FI\n",
      "Country.FR\n",
      "Country.FX\n",
      "Country.GE\n",
      "Country.HR\n",
      "Country.HU\n",
      "Country.IE\n",
      "Country.IS\n",
      "Country.IT\n",
      "Country.LI\n",
      "Country.LT\n",
      "Country.LU\n",
      "Country.LV\n",
      "Country.MD\n",
      "Country.ME\n",
      "Country.MK\n",
      "Country.MT\n",
      "Country.NL\n",
      "Country.NO\n",
      "Country.PL\n",
      "Country.PT\n",
      "Country.RO\n",
      "Country.RS\n",
      "Country.RU\n",
      "Country.SE\n",
      "Country.SI\n",
      "Country.SK\n",
      "Country.SM\n",
      "Country.TR\n",
      "Country.UA\n",
      "Country.UK\n",
      "Country.XK\n"
     ]
    }
   ],
   "source": [
    "for a in (Country):\n",
    "    print(a)"
   ]
  },
  {
   "cell_type": "code",
   "execution_count": null,
   "metadata": {},
   "outputs": [],
   "source": []
  }
 ],
 "metadata": {
  "kernelspec": {
   "display_name": "pod6",
   "language": "python",
   "name": "python3"
  },
  "language_info": {
   "codemirror_mode": {
    "name": "ipython",
    "version": 3
   },
   "file_extension": ".py",
   "mimetype": "text/x-python",
   "name": "python",
   "nbconvert_exporter": "python",
   "pygments_lexer": "ipython3",
   "version": "3.8.10"
  }
 },
 "nbformat": 4,
 "nbformat_minor": 2
}
