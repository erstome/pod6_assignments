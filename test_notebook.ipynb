{
 "cells": [
  {
   "cell_type": "code",
   "execution_count": 6,
   "metadata": {},
   "outputs": [
    {
     "name": "stdout",
     "output_type": "stream",
     "text": [
      "The autoreload extension is already loaded. To reload it, use:\n",
      "  %reload_ext autoreload\n"
     ]
    }
   ],
   "source": [
    "%load_ext autoreload\n",
    "%autoreload 2"
   ]
  },
  {
   "cell_type": "code",
   "execution_count": 16,
   "metadata": {},
   "outputs": [],
   "source": [
    "import pandas as pd\n",
    "from life_expectancy.cleaning import clean_data"
   ]
  },
  {
   "cell_type": "code",
   "execution_count": 153,
   "metadata": {},
   "outputs": [],
   "source": [
    "data = clean_data()"
   ]
  },
  {
   "cell_type": "code",
   "execution_count": 3,
   "metadata": {},
   "outputs": [],
   "source": [
    "from life_expectancy.tests import OUTPUT_DIR"
   ]
  },
  {
   "cell_type": "code",
   "execution_count": 4,
   "metadata": {},
   "outputs": [
    {
     "data": {
      "text/plain": [
       "PosixPath('/home/erstome/DareData/pod6_assignments/assignments/life_expectancy/data')"
      ]
     },
     "execution_count": 4,
     "metadata": {},
     "output_type": "execute_result"
    }
   ],
   "source": [
    "OUTPUT_DIR"
   ]
  },
  {
   "cell_type": "code",
   "execution_count": 5,
   "metadata": {},
   "outputs": [
    {
     "data": {
      "text/plain": [
       "'pt'"
      ]
     },
     "execution_count": 5,
     "metadata": {},
     "output_type": "execute_result"
    }
   ],
   "source": [
    "'PT'.lower()"
   ]
  },
  {
   "cell_type": "code",
   "execution_count": 155,
   "metadata": {},
   "outputs": [
    {
     "data": {
      "text/html": [
       "<div>\n",
       "<style scoped>\n",
       "    .dataframe tbody tr th:only-of-type {\n",
       "        vertical-align: middle;\n",
       "    }\n",
       "\n",
       "    .dataframe tbody tr th {\n",
       "        vertical-align: top;\n",
       "    }\n",
       "\n",
       "    .dataframe thead th {\n",
       "        text-align: right;\n",
       "    }\n",
       "</style>\n",
       "<table border=\"1\" class=\"dataframe\">\n",
       "  <thead>\n",
       "    <tr style=\"text-align: right;\">\n",
       "      <th></th>\n",
       "      <th>unit</th>\n",
       "      <th>sex</th>\n",
       "      <th>age</th>\n",
       "      <th>region</th>\n",
       "      <th>year</th>\n",
       "      <th>value</th>\n",
       "    </tr>\n",
       "  </thead>\n",
       "  <tbody>\n",
       "    <tr>\n",
       "      <th>25</th>\n",
       "      <td>YR</td>\n",
       "      <td>F</td>\n",
       "      <td>Y65</td>\n",
       "      <td>PT</td>\n",
       "      <td>2021</td>\n",
       "      <td>21.7</td>\n",
       "    </tr>\n",
       "    <tr>\n",
       "      <th>55</th>\n",
       "      <td>YR</td>\n",
       "      <td>F</td>\n",
       "      <td>Y_LT1</td>\n",
       "      <td>PT</td>\n",
       "      <td>2021</td>\n",
       "      <td>84.3</td>\n",
       "    </tr>\n",
       "    <tr>\n",
       "      <th>85</th>\n",
       "      <td>YR</td>\n",
       "      <td>M</td>\n",
       "      <td>Y65</td>\n",
       "      <td>PT</td>\n",
       "      <td>2021</td>\n",
       "      <td>17.8</td>\n",
       "    </tr>\n",
       "    <tr>\n",
       "      <th>115</th>\n",
       "      <td>YR</td>\n",
       "      <td>M</td>\n",
       "      <td>Y_LT1</td>\n",
       "      <td>PT</td>\n",
       "      <td>2021</td>\n",
       "      <td>78.0</td>\n",
       "    </tr>\n",
       "    <tr>\n",
       "      <th>147</th>\n",
       "      <td>YR</td>\n",
       "      <td>T</td>\n",
       "      <td>Y65</td>\n",
       "      <td>PT</td>\n",
       "      <td>2021</td>\n",
       "      <td>19.9</td>\n",
       "    </tr>\n",
       "    <tr>\n",
       "      <th>...</th>\n",
       "      <td>...</td>\n",
       "      <td>...</td>\n",
       "      <td>...</td>\n",
       "      <td>...</td>\n",
       "      <td>...</td>\n",
       "      <td>...</td>\n",
       "    </tr>\n",
       "    <tr>\n",
       "      <th>474340</th>\n",
       "      <td>YR</td>\n",
       "      <td>T</td>\n",
       "      <td>Y83</td>\n",
       "      <td>PT</td>\n",
       "      <td>1960</td>\n",
       "      <td>4.7</td>\n",
       "    </tr>\n",
       "    <tr>\n",
       "      <th>474350</th>\n",
       "      <td>YR</td>\n",
       "      <td>T</td>\n",
       "      <td>Y84</td>\n",
       "      <td>PT</td>\n",
       "      <td>1960</td>\n",
       "      <td>4.5</td>\n",
       "    </tr>\n",
       "    <tr>\n",
       "      <th>474360</th>\n",
       "      <td>YR</td>\n",
       "      <td>T</td>\n",
       "      <td>Y9</td>\n",
       "      <td>PT</td>\n",
       "      <td>1960</td>\n",
       "      <td>62.9</td>\n",
       "    </tr>\n",
       "    <tr>\n",
       "      <th>474370</th>\n",
       "      <td>YR</td>\n",
       "      <td>T</td>\n",
       "      <td>Y_GE85</td>\n",
       "      <td>PT</td>\n",
       "      <td>1960</td>\n",
       "      <td>4.2</td>\n",
       "    </tr>\n",
       "    <tr>\n",
       "      <th>474380</th>\n",
       "      <td>YR</td>\n",
       "      <td>T</td>\n",
       "      <td>Y_LT1</td>\n",
       "      <td>PT</td>\n",
       "      <td>1960</td>\n",
       "      <td>64.0</td>\n",
       "    </tr>\n",
       "  </tbody>\n",
       "</table>\n",
       "<p>15744 rows × 6 columns</p>\n",
       "</div>"
      ],
      "text/plain": [
       "       unit sex     age region  year  value\n",
       "25       YR   F     Y65     PT  2021   21.7\n",
       "55       YR   F   Y_LT1     PT  2021   84.3\n",
       "85       YR   M     Y65     PT  2021   17.8\n",
       "115      YR   M   Y_LT1     PT  2021   78.0\n",
       "147      YR   T     Y65     PT  2021   19.9\n",
       "...     ...  ..     ...    ...   ...    ...\n",
       "474340   YR   T     Y83     PT  1960    4.7\n",
       "474350   YR   T     Y84     PT  1960    4.5\n",
       "474360   YR   T      Y9     PT  1960   62.9\n",
       "474370   YR   T  Y_GE85     PT  1960    4.2\n",
       "474380   YR   T   Y_LT1     PT  1960   64.0\n",
       "\n",
       "[15744 rows x 6 columns]"
      ]
     },
     "execution_count": 155,
     "metadata": {},
     "output_type": "execute_result"
    }
   ],
   "source": [
    "data"
   ]
  },
  {
   "cell_type": "code",
   "execution_count": null,
   "metadata": {},
   "outputs": [],
   "source": []
  }
 ],
 "metadata": {
  "kernelspec": {
   "display_name": ".pod6",
   "language": "python",
   "name": "python3"
  },
  "language_info": {
   "codemirror_mode": {
    "name": "ipython",
    "version": 3
   },
   "file_extension": ".py",
   "mimetype": "text/x-python",
   "name": "python",
   "nbconvert_exporter": "python",
   "pygments_lexer": "ipython3",
   "version": "3.10.9"
  },
  "orig_nbformat": 4
 },
 "nbformat": 4,
 "nbformat_minor": 2
}
